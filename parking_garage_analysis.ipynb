{
  "cells": [
    {
      "cell_type": "markdown",
      "metadata": {
        "id": "view-in-github",
        "colab_type": "text"
      },
      "source": [
        "<a href=\"https://colab.research.google.com/github/wyniemko/parking-garage/blob/main/parking_garage_analysis.ipynb\" target=\"_parent\"><img src=\"https://colab.research.google.com/assets/colab-badge.svg\" alt=\"Open In Colab\"/></a>"
      ]
    },
    {
      "cell_type": "code",
      "execution_count": null,
      "metadata": {
        "colab": {
          "base_uri": "https://localhost:8080/"
        },
        "id": "KqR5CCTEestI",
        "outputId": "81f538b6-83f6-412b-dece-57aa0bc24f60"
      },
      "outputs": [
        {
          "name": "stdout",
          "output_type": "stream",
          "text": [
            "The best day and time to park in University is wednesday at 2:40:00 PM with 0.85 spots available.\n",
            "The best day and time to park in Grant Street is Thursday at 9:46:00 AM with 0.79 spots available.\n",
            "The best day and time to park in Wood Street is Tuesday at 6:45:00 AM with 0.8 spots available.\n"
          ]
        }
      ],
      "source": [
        "import csv\n",
        "\n",
        "garages = {}\n",
        "\n",
        "# Read the CSV file and store the data in a dictionary\n",
        "# where the keys are the names of the garages and the values\n",
        "# are lists of tuples (day_of_week, time, spots)\n",
        "with open('garage.csv') as csvfile:\n",
        "  reader = csv.reader(csvfile, delimiter=',')\n",
        "  next(reader)  # Skip the header row\n",
        "  for row in reader:\n",
        "    garage = row[0]\n",
        "    day_of_week = row[1]\n",
        "    time = row[2]\n",
        "    spots = float(row[3])\n",
        "\n",
        "    if garage not in garages:\n",
        "      garages[garage] = []\n",
        "\n",
        "    garages[garage].append((day_of_week, time, spots))\n",
        "\n",
        "# For each garage, find the day of the week, time, and number of spots\n",
        "# that have the most availability\n",
        "for garage, entries in garages.items():\n",
        "  best_day_of_week = None\n",
        "  best_time = None\n",
        "  best_spots = 0\n",
        "\n",
        "  for entry in entries:\n",
        "    day_of_week = entry[0]\n",
        "    time = entry[1]\n",
        "    spots = entry[2]\n",
        "\n",
        "    if spots > best_spots:\n",
        "      best_day_of_week = day_of_week\n",
        "      best_time = time\n",
        "      best_spots = spots\n",
        "\n",
        "  print(f'The busiest day and time to park in {garage} is {best_day_of_week} at {best_time} with {best_spots} spots available.')\n"
      ]
    },
    {
      "cell_type": "code",
      "execution_count": null,
      "metadata": {
        "colab": {
          "base_uri": "https://localhost:8080/"
        },
        "id": "1VWGLEVpgSu4",
        "outputId": "fad789a1-a708-4615-ce97-9c0a54ba4b50"
      },
      "outputs": [
        {
          "name": "stdout",
          "output_type": "stream",
          "text": [
            "The garage with the lowest number of spots on the busiest days is University with 0.59 spots available.\n"
          ]
        }
      ],
      "source": [
        "import csv\n",
        "\n",
        "garages = {}\n",
        "\n",
        "# Read the CSV file and store the data in a dictionary\n",
        "# where the keys are the names of the garages and the values\n",
        "# are lists of tuples (day_of_week, time, spots)\n",
        "with open('garage.csv') as csvfile:\n",
        "  reader = csv.reader(csvfile, delimiter=',')\n",
        "  next(reader)  # Skip the header row\n",
        "  for row in reader:\n",
        "    garage = row[0]\n",
        "    day_of_week = row[1]\n",
        "    time = row[2]\n",
        "    spots = float(row[3])\n",
        "\n",
        "    if garage not in garages:\n",
        "      garages[garage] = []\n",
        "\n",
        "    garages[garage].append((day_of_week, time, spots))\n",
        "\n",
        "# Find the busiest days of the week by counting the number of entries\n",
        "# for each day of the week and taking the top 3 busiest days\n",
        "day_counts = {}\n",
        "\n",
        "for garage, entries in garages.items():\n",
        "  for entry in entries:\n",
        "    day_of_week = entry[0]\n",
        "\n",
        "    if day_of_week not in day_counts:\n",
        "      day_counts[day_of_week] = 0\n",
        "\n",
        "    day_counts[day_of_week] += 1\n",
        "\n",
        "busiest_days = sorted(day_counts, key=day_counts.get, reverse=True)[:3]\n",
        "\n",
        "# For each garage, find the minimum number of spots available\n",
        "# on the busiest days of the week\n",
        "best_garage = None\n",
        "best_spots = float('inf')\n",
        "\n",
        "for garage, entries in garages.items():\n",
        "  min_spots = float('inf')\n",
        "\n",
        "  for entry in entries:\n",
        "    day_of_week = entry[0]\n",
        "    spots = entry[2]\n",
        "\n",
        "    if day_of_week in busiest_days and spots < min_spots:\n",
        "      min_spots = spots\n",
        "\n",
        "  if min_spots < best_spots:\n",
        "    best_garage = garage\n",
        "    best_spots = min_spots\n",
        "\n",
        "# Print the result\n",
        "print(f'The garage with the lowest number of spots on the busiest days is {best_garage} with {best_spots} spots available.')\n"
      ]
    },
    {
      "cell_type": "code",
      "execution_count": null,
      "metadata": {
        "colab": {
          "background_save": true,
          "base_uri": "https://localhost:8080/"
        },
        "id": "G6SbbWjGiMO8",
        "outputId": "b941987d-8043-41a6-f3f8-3265fb570b39"
      },
      "outputs": [
        {
          "name": "stdout",
          "output_type": "stream",
          "text": [
            "Select the day of the week:\n",
            "1) Friday\n",
            "2) Monday\n",
            "3) Saturday\n",
            "4) Sunday\n",
            "5) Thursday\n",
            "6) Tuesday\n",
            "7) Wednesday\n",
            "8) friday\n",
            "9) monday\n",
            "10) saturday\n",
            "11) sunday\n",
            "12) thrusday\n",
            "13) tuesday\n",
            "14) wednesday\n",
            "Select the time:\n",
            "1) 10:40:00 AM\n",
            "2) 10:40:00 PM\n",
            "3) 10:45:00 AM\n",
            "4) 10:45:00 PM\n",
            "5) 10:46:00 AM\n",
            "6) 10:46:00 PM\n",
            "7) 11:40:00 AM\n",
            "8) 11:40:00 PM\n",
            "9) 11:45:00 AM\n",
            "10) 11:45:00 PM\n",
            "11) 11:46:00 AM\n",
            "12) 11:46:00 PM\n",
            "13) 12:40:00 AM\n",
            "14) 12:40:00 PM\n",
            "15) 12:45:00 AM\n",
            "16) 12:45:00 PM\n",
            "17) 12:46:00 AM\n",
            "18) 12:46:00 PM\n",
            "19) 1:40:00 AM\n",
            "20) 1:40:00 PM\n",
            "21) 1:45:00 AM\n",
            "22) 1:45:00 PM\n",
            "23) 1:46:00 AM\n",
            "24) 1:46:00 PM\n",
            "25) 2:40:00 AM\n",
            "26) 2:40:00 PM\n",
            "27) 2:45:00 AM\n",
            "28) 2:45:00 PM\n",
            "29) 2:46:00 AM\n",
            "30) 2:46:00 PM\n",
            "31) 3:40:00 AM\n",
            "32) 3:40:00 PM\n",
            "33) 3:45:00 AM\n",
            "34) 3:45:00 PM\n",
            "35) 3:46:00 AM\n",
            "36) 3:46:00 PM\n",
            "37) 4:40:00 AM\n",
            "38) 4:40:00 PM\n",
            "39) 4:45:00 AM\n",
            "40) 4:45:00 PM\n",
            "41) 4:46:00 AM\n",
            "42) 4:46:00 PM\n",
            "43) 5:40:00 AM\n",
            "44) 5:40:00 PM\n",
            "45) 5:45:00 AM\n",
            "46) 5:45:00 PM\n",
            "47) 5:46:00 AM\n",
            "48) 5:46:00 PM\n",
            "49) 6:40:00 AM\n",
            "50) 6:40:00 PM\n",
            "51) 6:45:00 AM\n",
            "52) 6:45:00 PM\n",
            "53) 6:46:00 AM\n",
            "54) 6:46:00 PM\n",
            "55) 7:40:00 AM\n",
            "56) 7:40:00 PM\n",
            "57) 7:45:00 AM\n",
            "58) 7:45:00 PM\n",
            "59) 7:46:00 AM\n",
            "60) 7:46:00 PM\n",
            "61) 8:40:00 AM\n",
            "62) 8:40:00 PM\n",
            "63) 8:45:00 AM\n",
            "64) 8:45:00 PM\n",
            "65) 8:46:00 AM\n",
            "66) 8:46:00 PM\n",
            "67) 9:40:00 AM\n",
            "68) 9:40:00 PM\n",
            "69) 9:45:00 AM\n",
            "70) 9:45:00 PM\n",
            "71) 9:46:00 AM\n",
            "72) 9:46:00 PM\n"
          ]
        }
      ],
      "source": [
        "import csv\n",
        "\n",
        "# Read the CSV file and store the data in a dictionary\n",
        "# where the keys are the names of the garages and the values\n",
        "# are lists of tuples (day_of_week, time, spots)\n",
        "garages = {}\n",
        "\n",
        "with open('garage.csv') as csvfile:\n",
        "  reader = csv.reader(csvfile, delimiter=',')\n",
        "  next(reader)  # Skip the header row\n",
        "  for row in reader:\n",
        "    garage = row[0]\n",
        "    day_of_week = row[1]\n",
        "    time = row[2]\n",
        "    spots = float(row[3])\n",
        "\n",
        "    if garage not in garages:\n",
        "      garages[garage] = []\n",
        "\n",
        "    garages[garage].append((day_of_week, time, spots))\n",
        "\n",
        "# Create a list of all the days of the week in the data\n",
        "# and a list of all the times in the data\n",
        "days_of_week = sorted(list(set([entry[0] for entries in garages.values() for entry in entries])))\n",
        "times = sorted(list(set([entry[1] for entries in garages.values() for entry in entries])))\n",
        "\n",
        "# Ask the user to select the day of the week and time\n",
        "print('Select the day of the week:')\n",
        "\n",
        "for i, day in enumerate(days_of_week):\n",
        "  print(f'{i+1}) {day}')\n",
        "\n",
        "day_of_week_index = int(input('Enter the number of the day of the week: '))\n",
        "day_of_week = days_of_week[day_of_week_index - 1]\n",
        "\n",
        "print('Select the time:')\n",
        "\n",
        "for i, time in enumerate(times):\n",
        "  print(f'{i+1}) {time}')\n",
        "\n",
        "time_index = float(input('Enter the number of the time: '))\n",
        "time = times[time_index - 1]\n",
        "\n",
        "# For each garage, find the number of spots available\n",
        "# on the given day of the week and time\n",
        "best_garage = None\n",
        "best_spots = float('inf')\n",
        "\n",
        "for garage, entries in garages.items():\n",
        "  for entry in entries:\n",
        "    entry_day_of_week = entry[0]\n",
        "    entry_time = entry[1]\n",
        "    spots = entry[2]\n",
        "\n",
        "    if entry_day_of_week == day_of_week and entry_time == time and spots < best_spots:\n",
        "      best_garage = garage\n",
        "      best_spots = spots\n",
        "\n",
        "# Check if a suitable garage was found\n",
        "if best_garage is None and best_spots == float('inf'):\n",
        "  print('Sorry, no suitable garage was found.')\n",
        "else:\n",
        "  # Print the result\n",
        "  print(f'The parking garage with the lowest number of spots is {best_garage} with {best_spots} spots available.')\n"
      ]
    },
    {
      "cell_type": "code",
      "execution_count": null,
      "metadata": {
        "id": "L-9ylZVWkHmV"
      },
      "outputs": [],
      "source": []
    },
    {
      "cell_type": "code",
      "execution_count": null,
      "metadata": {
        "colab": {
          "base_uri": "https://localhost:8080/"
        },
        "id": "mNi1S363knXH",
        "outputId": "3718a688-260c-4185-817b-3300f6d6d52f"
      },
      "outputs": [
        {
          "name": "stdout",
          "output_type": "stream",
          "text": [
            "    Day of week Time   Spots\n",
            "0           Fri   10  0.6925\n",
            "1           Fri   11  0.6700\n",
            "2           Fri   12  0.6500\n",
            "3           Fri   1:  0.6450\n",
            "4           Fri   2:  0.6375\n",
            "..          ...  ...     ...\n",
            "163         wed   5:  0.6200\n",
            "164         wed   6:  0.6100\n",
            "165         wed   7:  0.6300\n",
            "166         wed   8:  0.6400\n",
            "167         wed   9:  0.6400\n",
            "\n",
            "[168 rows x 3 columns]\n"
          ]
        }
      ],
      "source": []
    }
  ],
  "metadata": {
    "colab": {
      "provenance": [],
      "authorship_tag": "ABX9TyMq7IKCfHxkvygY8fAJp6w+",
      "include_colab_link": true
    },
    "kernelspec": {
      "display_name": "Python 3",
      "name": "python3"
    },
    "language_info": {
      "name": "python"
    }
  },
  "nbformat": 4,
  "nbformat_minor": 0
}