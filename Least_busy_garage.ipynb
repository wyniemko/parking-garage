{
  "nbformat": 4,
  "nbformat_minor": 0,
  "metadata": {
    "colab": {
      "provenance": [],
      "authorship_tag": "ABX9TyMKZ2mipISoyCsyaE6JoL72",
      "include_colab_link": true
    },
    "kernelspec": {
      "name": "python3",
      "display_name": "Python 3"
    },
    "language_info": {
      "name": "python"
    }
  },
  "cells": [
    {
      "cell_type": "markdown",
      "metadata": {
        "id": "view-in-github",
        "colab_type": "text"
      },
      "source": [
        "<a href=\"https://colab.research.google.com/github/wyniemko/parking-garage/blob/main/Least_busy_garage.ipynb\" target=\"_parent\"><img src=\"https://colab.research.google.com/assets/colab-badge.svg\" alt=\"Open In Colab\"/></a>"
      ]
    },
    {
      "cell_type": "code",
      "execution_count": 5,
      "metadata": {
        "colab": {
          "base_uri": "https://localhost:8080/"
        },
        "id": "PVFa3KDQtq58",
        "outputId": "51a7e13a-2173-428a-8b1c-3bfbda15cfa4"
      },
      "outputs": [
        {
          "output_type": "stream",
          "name": "stdout",
          "text": [
            "Time/Day\tMinimum\tColumn\n",
            "8:30:00 AM/monday\t0.78\tWood\n",
            "9:30:00 AM/monday\t0.78\tWood\n",
            "10:30:00 AM/monday\t0.74\tWood\n",
            "11:30:00 AM/monday\t0.63\tWood\n",
            "12:30:00 PM/monday\t0.62\tWood\n",
            "1:30:00 PM/monday\t0.62\tWood\n",
            "2:30:00 PM/monday\t0.62\tWood\n",
            "3:30:00 PM/monday\t0.62\tWood\n",
            "4:30:00 PM/monday\t0.61\tWood\n",
            "5:30:00 PM/monday\t0.59\tWood\n",
            "8:30:00 AM/tuesday\t0.7\tUniversity\n",
            "9:30:00 AM/tuesday\t0.69\tUniversity\n",
            "10:30:00 AM/tuesday\t0.7\tUniversity\n",
            "11:30:00 AM/tuesday\t0.68\tUniversity\n",
            "12:30:00 PM/tuesday\t0.67\tWood\n",
            "1:30:00 PM/tuesday\t0.64\tWood\n",
            "2:30:00 PM/tuesday\t0.62\tWood\n",
            "3:30:00 PM/tuesday\t0.6\tWood\n",
            "4:30:00 PM/tuesday\t0.59\tWood\n",
            "5:30:00 PM/tuesday\t0.58\tWood\n",
            "8:30:00 AM/wednesday\t0.7\tUniversity\n",
            "9:30:00 AM/wednesday\t0.69\tUniversity\n",
            "10:30:00 AM/wednesday\t0.7\tNorthwestern\n",
            "11:30:00 AM/wednesday\t0.68\tUniversity\n",
            "12:30:00 PM/wednesday\t0.68\tUniversity\n",
            "1:30:00 PM/wednesday\t0.67\tWood\n",
            "2:30:00 PM/wednesday\t0.64\tWood\n",
            "3:30:00 PM/wednesday\t0.62\tWood\n",
            "4:30:00 PM/wednesday\t0.6\tWood\n",
            "5:30:00 PM/wednesday\t0.58\tWood\n",
            "8:30:00 AM/thursday\t0.61\tUniversity\n",
            "9:30:00 AM/thursday\t0.6\tUniversity\n",
            "10:30:00 AM/thursday\t0.59\tUniversity\n",
            "11:30:00 AM/thursday\t0.6\tUniversity\n",
            "12:30:00 PM/thursday\t0.59\tUniversity\n",
            "1:30:00 PM/thursday\t0.64\tUniversity\n",
            "2:30:00 PM/thursday\t0.64\tWood\n",
            "3:30:00 PM/thursday\t0.62\tWood\n",
            "4:30:00 PM/thursday\t0.6\tWood\n",
            "5:30:00 PM/thursday\t0.59\tWood\n",
            "8:30:00 AM/friday\t0.7\tUniversity\n",
            "9:30:00 AM/friday\t0.69\tUniversity\n",
            "10:30:00 AM/friday\t0.68\tUniversity\n",
            "11:30:00 AM/friday\t0.67\tUniversity\n",
            "12:30:00 PM/friday\t0.68\tUniversity\n",
            "1:30:00 PM/friday\t0.67\tGrant\n",
            "2:30:00 PM/friday\t0.64\tWood\n",
            "3:30:00 PM/friday\t0.62\tWood\n",
            "4:30:00 PM/friday\t0.6\tWood\n",
            "5:30:00 PM/friday\t0.6\tNorthwestern\n"
          ]
        }
      ],
      "source": [
        "import csv\n",
        "import git\n",
        "\n",
        "# Open the garage.csv file and read the data into a list of dictionaries\n",
        "with open('garage.csv') as csv_file:\n",
        "    reader = csv.DictReader(csv_file)\n",
        "    data = list(reader)\n",
        "\n",
        "# Initialize a dictionary to store the minimum values and column names for each time/day\n",
        "min_values = {}\n",
        "\n",
        "# Iterate over the rows in the data\n",
        "for row in data:\n",
        "    # Get the time/day for the current row\n",
        "    time_day = row['Time'] + '/' + row['Day']\n",
        "\n",
        "    # If this time/day has not been seen before, initialize its minimum value and column name\n",
        "    if time_day not in min_values:\n",
        "        min_values[time_day] = {'value': float('inf'), 'column': ''}\n",
        "\n",
        "    # Update the minimum value and column name, if necessary\n",
        "    if float(row['Northwestern']) < min_values[time_day]['value']:\n",
        "        min_values[time_day]['value'] = float(row['Northwestern'])\n",
        "        min_values[time_day]['column'] = 'Northwestern'\n",
        "    if float(row['University']) < min_values[time_day]['value']:\n",
        "        min_values[time_day]['value'] = float(row['University'])\n",
        "        min_values[time_day]['column'] = 'University'\n",
        "    if float(row['Grant']) < min_values[time_day]['value']:\n",
        "        min_values[time_day]['value'] = float(row['Grant'])\n",
        "        min_values[time_day]['column'] = 'Grant'\n",
        "    if float(row['Wood']) < min_values[time_day]['value']:\n",
        "        min_values[time_day]['value'] = float(row['Wood'])\n",
        "        min_values[time_day]['column'] = 'Wood'\n",
        "\n",
        "# Print a header row for the table\n",
        "print('Time/Day\\tMinimum\\tColumn')\n",
        "\n",
        "# Print the minimum value and column for each time/day in a tab-separated table\n",
        "for time_day, values in min_values.items():\n",
        "    print(f'{time_day}\\t{values[\"value\"]}\\t{values[\"column\"]}')\n"
      ]
    }
  ]
}